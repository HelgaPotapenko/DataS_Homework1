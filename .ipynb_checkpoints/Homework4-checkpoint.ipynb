{
 "cells": [
  {
   "cell_type": "markdown",
   "metadata": {
    "toc": true
   },
   "source": [
    "<h1>Table of Contents<span class=\"tocSkip\"></span></h1>\n",
    "<div class=\"toc\"><ul class=\"toc-item\"><li><span><a href=\"#Задача-1\" data-toc-modified-id=\"Задача-1-1\"><span class=\"toc-item-num\">1&nbsp;&nbsp;</span>Задача 1</a></span></li><li><span><a href=\"#Задача-2\" data-toc-modified-id=\"Задача-2-2\"><span class=\"toc-item-num\">2&nbsp;&nbsp;</span>Задача 2</a></span></li><li><span><a href=\"#Задача-3\" data-toc-modified-id=\"Задача-3-3\"><span class=\"toc-item-num\">3&nbsp;&nbsp;</span>Задача 3</a></span></li></ul></div>"
   ]
  },
  {
   "cell_type": "markdown",
   "metadata": {},
   "source": [
    "Homework4\n",
    "Школа DataScientist, декабрь 2022, Андреева Ольга"
   ]
  },
  {
   "cell_type": "code",
   "execution_count": 1,
   "metadata": {},
   "outputs": [],
   "source": [
    "import pandas as pd\n",
    "import numpy as np\n",
    "import requests # for web-download\n",
    "import io # for web-download\n",
    "import re # for data processing"
   ]
  },
  {
   "cell_type": "markdown",
   "metadata": {},
   "source": [
    "# Задача 1\n",
    "На основании данных портала \"Открытые данные России\" о результатах Химического анализа родника в Нескучном саду https://data.gov.ru/opendata/7708660670-rodnik-neskuchniy-sad средствами библиотеки Pandas сформируйте поле выводов по каждому анализирумомому параметру. Например, по показателю pH получен результат 8.4 единицы pH при нормативе от 6 до 9 единиц pH. Т.о. по данному показателю результат анализа в норме. Для решения задачи необходимо программно \"прочитать и понять\" значение столбца \"Норматив\" и выделенное численное значение сравнить с нормативом согласно логике норматива. Например, 6 >= pH >= 9. В итоговом DataFrame столбец \"Показатель\" сделайте индексным.\n",
    "\n",
    "Загзрузка DataFrame выполняется непосредственно c сайта \"Открытые данные России\" https://data.gov.ru/opendata/7708660670-rodnik-neskuchniy-sad/data-20160608T1215-structure-20160608T1215.csv (см. код ниже)."
   ]
  },
  {
   "cell_type": "code",
   "execution_count": 69,
   "metadata": {},
   "outputs": [
    {
     "data": {
      "text/html": [
       "<div>\n",
       "<style scoped>\n",
       "    .dataframe tbody tr th:only-of-type {\n",
       "        vertical-align: middle;\n",
       "    }\n",
       "\n",
       "    .dataframe tbody tr th {\n",
       "        vertical-align: top;\n",
       "    }\n",
       "\n",
       "    .dataframe thead th {\n",
       "        text-align: right;\n",
       "    }\n",
       "</style>\n",
       "<table border=\"1\" class=\"dataframe\">\n",
       "  <thead>\n",
       "    <tr style=\"text-align: right;\">\n",
       "      <th></th>\n",
       "      <th>Показатель</th>\n",
       "      <th>Единица измерений</th>\n",
       "      <th>Результат анализа</th>\n",
       "      <th>Норматив</th>\n",
       "    </tr>\n",
       "  </thead>\n",
       "  <tbody>\n",
       "    <tr>\n",
       "      <td>count</td>\n",
       "      <td>14</td>\n",
       "      <td>14</td>\n",
       "      <td>14</td>\n",
       "      <td>14</td>\n",
       "    </tr>\n",
       "    <tr>\n",
       "      <td>unique</td>\n",
       "      <td>14</td>\n",
       "      <td>5</td>\n",
       "      <td>14</td>\n",
       "      <td>13</td>\n",
       "    </tr>\n",
       "    <tr>\n",
       "      <td>top</td>\n",
       "      <td>Аммиак и аммоний-ион (по азоту)</td>\n",
       "      <td>мг/дм3</td>\n",
       "      <td>1</td>\n",
       "      <td>не более 0,3</td>\n",
       "    </tr>\n",
       "    <tr>\n",
       "      <td>freq</td>\n",
       "      <td>1</td>\n",
       "      <td>10</td>\n",
       "      <td>1</td>\n",
       "      <td>2</td>\n",
       "    </tr>\n",
       "  </tbody>\n",
       "</table>\n",
       "</div>"
      ],
      "text/plain": [
       "                             Показатель Единица измерений Результат анализа  \\\n",
       "count                                14                14                14   \n",
       "unique                               14                 5                14   \n",
       "top     Аммиак и аммоний-ион (по азоту)            мг/дм3                 1   \n",
       "freq                                  1                10                 1   \n",
       "\n",
       "            Норматив  \n",
       "count             14  \n",
       "unique            13  \n",
       "top     не более 0,3  \n",
       "freq               2  "
      ]
     },
     "execution_count": 69,
     "metadata": {},
     "output_type": "execute_result"
    }
   ],
   "source": [
    "headers={\n",
    "    'User-Agent': 'Mozilla/5.0 (X11; Ubuntu; Linux x86_64; rv:52.0) Gecko/20100101 Firefox/52.0',\n",
    "}\n",
    "def get_content(url):\n",
    "    with requests.Session() as req:\n",
    "        req.headers.update(headers)\n",
    "        r = req.get(url).content\n",
    "    return r\n",
    "\n",
    "url =\"https://data.gov.ru/opendata/7708660670-rodnik-neskuchniy-sad/data-20160608T1215-structure-20160608T1215.csv\"\n",
    "s = get_content(url)\n",
    "df=pd.read_csv(io.StringIO(s.decode('UTF8')), sep=',')\n",
    "\n",
    "\n",
    "### Если не работает загрузка on-line\n",
    "#df=pd.read_csv(\"Химический анализ родника в Нескучном саду.csv\", sep=';')\n",
    "df.describe()"
   ]
  },
  {
   "cell_type": "code",
   "execution_count": 124,
   "metadata": {},
   "outputs": [],
   "source": [
    "#функция для поиска всех чисел в строке\n",
    "def find_numbers(p_str):\n",
    "    try:\n",
    "        v_str=p_str.replace(',','.')\n",
    "        res=re.findall('-?\\d+(?:\\.\\d+)?', v_str)\n",
    "        res=[float(n) for n in res]\n",
    "        return res\n",
    "    except ValueError:\n",
    "        return None\n",
    "    except AttributeError:\n",
    "        return None\n",
    "\n",
    "#print(find_numbers('12,3 567 123 -8'))"
   ]
  },
  {
   "cell_type": "code",
   "execution_count": 140,
   "metadata": {},
   "outputs": [
    {
     "name": "stdout",
     "output_type": "stream",
     "text": [
      "False\n"
     ]
    }
   ],
   "source": [
    "# проверка соответствия значения p_value нормативу в нормализованном виде (p_limits, p_relation)\n",
    "# возможные значения p_relation:\n",
    "        # 'менее': 0\n",
    "        # 'не более': 1\n",
    "        # 'не менее': 2\n",
    "        # 'более': 3\n",
    "        # 'в пределах': 4\n",
    "def check_normative(p_value, p_limits, p_relation):\n",
    "    try:\n",
    "        if p_relation == 0:\n",
    "                return (p_value<p_limits[0])\n",
    "        elif p_relation == 1:\n",
    "                return (p_value<=p_limits[0])\n",
    "        elif p_relation == 2:\n",
    "                return (p_value<=p_limits[0])\n",
    "        elif p_relation == 3:\n",
    "                return (p_value>p_limits[0])    \n",
    "        elif p_relation == 4:\n",
    "                return ((p_value>=p_limits[0])&(p_value<=p_limits[1]))\n",
    "        else:\n",
    "            return (None)\n",
    "    except TypeError:\n",
    "            return (None)\n",
    "\n",
    "#print(check_normative(13, [10], 0))"
   ]
  },
  {
   "cell_type": "code",
   "execution_count": 142,
   "metadata": {},
   "outputs": [],
   "source": [
    "# проверка соответствия значения p_value нормативу в текстовом виде (p_nrmtv)\n",
    "def parse_normative(p_value, p_nrmtv):\n",
    "    c_templates=dict({'(\\s+)?менее\\s':0\n",
    "                     ,'(\\s+)?не(\\s+)?более\\s':1\n",
    "                     ,'(\\s+)?не(\\s+)?менее\\s':2\n",
    "                     , '(\\s+)?более':3\n",
    "                     , '(\\s+)?в(\\s+)?пределах\\s':4\n",
    "                     })\n",
    "    try:\n",
    "        for v_tmplt in c_templates:\n",
    "            if re.match(v_tmplt, p_nrmtv):\n",
    "                v_limits = find_numbers(p_nrmtv)\n",
    "                return(check_normative(float(p_value), v_limits, c_templates.get(v_tmplt)))\n",
    "        return ('ParseNormativeError')\n",
    "    except TypeError:\n",
    "            return ('TypeError')\n",
    "    except ValueError:\n",
    "            return ('ValueError')\n",
    "#print(parse_normative('7', 'в пределах 6-9'))"
   ]
  },
  {
   "cell_type": "code",
   "execution_count": 143,
   "metadata": {},
   "outputs": [
    {
     "data": {
      "text/html": [
       "<div>\n",
       "<style scoped>\n",
       "    .dataframe tbody tr th:only-of-type {\n",
       "        vertical-align: middle;\n",
       "    }\n",
       "\n",
       "    .dataframe tbody tr th {\n",
       "        vertical-align: top;\n",
       "    }\n",
       "\n",
       "    .dataframe thead th {\n",
       "        text-align: right;\n",
       "    }\n",
       "</style>\n",
       "<table border=\"1\" class=\"dataframe\">\n",
       "  <thead>\n",
       "    <tr style=\"text-align: right;\">\n",
       "      <th></th>\n",
       "      <th>Показатель</th>\n",
       "      <th>Единица_измерений</th>\n",
       "      <th>Результат_анализа</th>\n",
       "      <th>Норматив</th>\n",
       "      <th>Соответсвкут нормативу</th>\n",
       "    </tr>\n",
       "  </thead>\n",
       "  <tbody>\n",
       "    <tr>\n",
       "      <td>0</td>\n",
       "      <td>pH</td>\n",
       "      <td>единицы pH</td>\n",
       "      <td>8.4</td>\n",
       "      <td>в пределах 6-9</td>\n",
       "      <td>False</td>\n",
       "    </tr>\n",
       "    <tr>\n",
       "      <td>1</td>\n",
       "      <td>Запах</td>\n",
       "      <td>баллы</td>\n",
       "      <td>1</td>\n",
       "      <td>не более 2-3</td>\n",
       "      <td>True</td>\n",
       "    </tr>\n",
       "    <tr>\n",
       "      <td>2</td>\n",
       "      <td>Цветность</td>\n",
       "      <td>градусы</td>\n",
       "      <td>б/цвета</td>\n",
       "      <td>не более 30</td>\n",
       "      <td>ValueError</td>\n",
       "    </tr>\n",
       "    <tr>\n",
       "      <td>3</td>\n",
       "      <td>Жёсткость</td>\n",
       "      <td>мг-эквл/дм3</td>\n",
       "      <td>9.199999999999999</td>\n",
       "      <td>в пределах 7-10</td>\n",
       "      <td>False</td>\n",
       "    </tr>\n",
       "    <tr>\n",
       "      <td>4</td>\n",
       "      <td>Аммиак и аммоний-ион (по азоту)</td>\n",
       "      <td>мг/дм3</td>\n",
       "      <td>0.42</td>\n",
       "      <td>не более 1,5</td>\n",
       "      <td>True</td>\n",
       "    </tr>\n",
       "    <tr>\n",
       "      <td>5</td>\n",
       "      <td>Нитриты (по NO2)</td>\n",
       "      <td>мг/дм3</td>\n",
       "      <td>0.017</td>\n",
       "      <td>не более 3,3</td>\n",
       "      <td>True</td>\n",
       "    </tr>\n",
       "    <tr>\n",
       "      <td>6</td>\n",
       "      <td>Нитраты (по NO3)</td>\n",
       "      <td>мг/дм3</td>\n",
       "      <td>24</td>\n",
       "      <td>не более 45</td>\n",
       "      <td>True</td>\n",
       "    </tr>\n",
       "    <tr>\n",
       "      <td>7</td>\n",
       "      <td>Фосфаты (P)</td>\n",
       "      <td>мг/дм3</td>\n",
       "      <td>0.36</td>\n",
       "      <td>не более 3,5</td>\n",
       "      <td>True</td>\n",
       "    </tr>\n",
       "    <tr>\n",
       "      <td>8</td>\n",
       "      <td>Хлориды (Cl)</td>\n",
       "      <td>мг/дм3</td>\n",
       "      <td>200</td>\n",
       "      <td>не более 350</td>\n",
       "      <td>True</td>\n",
       "    </tr>\n",
       "    <tr>\n",
       "      <td>9</td>\n",
       "      <td>Сульфаты (SO4)</td>\n",
       "      <td>мг/дм3</td>\n",
       "      <td>189.5</td>\n",
       "      <td>не более 500</td>\n",
       "      <td>True</td>\n",
       "    </tr>\n",
       "    <tr>\n",
       "      <td>10</td>\n",
       "      <td>Железо (включая хлорное железо) по Fe</td>\n",
       "      <td>мг/дм3</td>\n",
       "      <td>0.019</td>\n",
       "      <td>не более 0,3</td>\n",
       "      <td>True</td>\n",
       "    </tr>\n",
       "    <tr>\n",
       "      <td>11</td>\n",
       "      <td>Нефть</td>\n",
       "      <td>мг/дм3</td>\n",
       "      <td>0.55</td>\n",
       "      <td>не более 0,3</td>\n",
       "      <td>False</td>\n",
       "    </tr>\n",
       "    <tr>\n",
       "      <td>12</td>\n",
       "      <td>Общая минерализация (сухой остаток)</td>\n",
       "      <td>мг/дм3</td>\n",
       "      <td>590</td>\n",
       "      <td>не более 1000</td>\n",
       "      <td>True</td>\n",
       "    </tr>\n",
       "    <tr>\n",
       "      <td>13</td>\n",
       "      <td>Окисляемость перманганатная</td>\n",
       "      <td>мг/дм3</td>\n",
       "      <td>2</td>\n",
       "      <td>не более 0,5</td>\n",
       "      <td>False</td>\n",
       "    </tr>\n",
       "  </tbody>\n",
       "</table>\n",
       "</div>"
      ],
      "text/plain": [
       "                               Показатель Единица_измерений  \\\n",
       "0                                      pH        единицы pH   \n",
       "1                                   Запах             баллы   \n",
       "2                               Цветность           градусы   \n",
       "3                               Жёсткость       мг-эквл/дм3   \n",
       "4         Аммиак и аммоний-ион (по азоту)            мг/дм3   \n",
       "5                        Нитриты (по NO2)            мг/дм3   \n",
       "6                        Нитраты (по NO3)            мг/дм3   \n",
       "7                             Фосфаты (P)            мг/дм3   \n",
       "8                            Хлориды (Cl)            мг/дм3   \n",
       "9                          Сульфаты (SO4)            мг/дм3   \n",
       "10  Железо (включая хлорное железо) по Fe            мг/дм3   \n",
       "11                                  Нефть            мг/дм3   \n",
       "12    Общая минерализация (сухой остаток)            мг/дм3   \n",
       "13            Окисляемость перманганатная            мг/дм3   \n",
       "\n",
       "    Результат_анализа         Норматив Соответсвкут нормативу  \n",
       "0                 8.4   в пределах 6-9                  False  \n",
       "1                   1     не более 2-3                   True  \n",
       "2             б/цвета      не более 30             ValueError  \n",
       "3   9.199999999999999  в пределах 7-10                  False  \n",
       "4                0.42     не более 1,5                   True  \n",
       "5               0.017     не более 3,3                   True  \n",
       "6                  24      не более 45                   True  \n",
       "7                0.36     не более 3,5                   True  \n",
       "8                 200     не более 350                   True  \n",
       "9               189.5     не более 500                   True  \n",
       "10              0.019     не более 0,3                   True  \n",
       "11               0.55     не более 0,3                  False  \n",
       "12                590    не более 1000                   True  \n",
       "13                  2     не более 0,5                  False  "
      ]
     },
     "execution_count": 143,
     "metadata": {},
     "output_type": "execute_result"
    }
   ],
   "source": [
    "#df=df.rename(columns={'Показатель':'Name', 'Единица измерений':'Measure', 'Результат анализа':'Value','Норматив':'Normative'})\n",
    "df=df.rename(columns={'Единица измерений':'Единица_измерений', 'Результат анализа':'Результат_анализа'})\n",
    "\n",
    "#df['Результат_число']=df.Результат_анализа.apply(find_numbers)\n",
    "df['Соответсвкут нормативу']=df.apply(lambda x: parse_normative(x.Результат_анализа, x.Норматив), axis=1)\n",
    "df"
   ]
  },
  {
   "cell_type": "markdown",
   "metadata": {},
   "source": [
    "# Задача 2"
   ]
  },
  {
   "cell_type": "markdown",
   "metadata": {},
   "source": [
    "\n",
    "\n",
    "В ящике 5 апельсинов и 4 яблока. Наудачу выбираются 3 фрукта. Какова вероятность, что все три фрукта – апельсины?\n",
    "\n",
    "В интернете полученный аналитически ответ 0.119. Подтверждается ли он эксперементально?"
   ]
  },
  {
   "cell_type": "code",
   "execution_count": 76,
   "metadata": {},
   "outputs": [
    {
     "name": "stdout",
     "output_type": "stream",
     "text": [
      "доля успешных исходов:  0.11959\n"
     ]
    }
   ],
   "source": [
    "#зададим число экспериментов\n",
    "p_exp_count=200000\n",
    "#зададим параметры наполнения ящика\n",
    "p_params=dict({'apple':4, 'orange':5})\n",
    "p_result_required=np.array(['orange','orange','orange'])\n",
    "\n",
    "#сгенерируем содержимое ящика\n",
    "v_frut_box=[]\n",
    "for i in p_params:\n",
    "    v_frut_box.extend([i]*p_params.get(i))\n",
    "#print(v_frut_box)\n",
    "\n",
    "#проводим p_exp_count экспериментов, запоминаем количество положительных результатов \n",
    "v_count=0    \n",
    "for i in range(p_exp_count):\n",
    "    v_result=np.random.choice(v_frut_box, size=3, replace=False)\n",
    "    if (np.array_equal(v_result, p_result_required)):\n",
    "        v_count += 1\n",
    "        \n",
    "#выведем долю успешных исходов\n",
    "print ('доля успешных исходов: ',v_count/p_exp_count)"
   ]
  },
  {
   "cell_type": "markdown",
   "metadata": {},
   "source": [
    "Эксперементальный результат совпадает с расчетным с точностью до 2 знаков"
   ]
  },
  {
   "cell_type": "markdown",
   "metadata": {},
   "source": [
    "# Задача 3"
   ]
  },
  {
   "cell_type": "markdown",
   "metadata": {},
   "source": [
    "\n",
    "\n",
    "Мастер, имея 10 деталей, из которых 3 – нестандартных, проверяет детали одну за другой, пока ему не попадется стандартная. Какова вероятность, что он проверит ровно две детали?\n",
    "\n",
    "В интернете полученный аналитически ответ 7/30 или 0.23333. Подтверждается ли он эксперементально?"
   ]
  },
  {
   "cell_type": "code",
   "execution_count": null,
   "metadata": {
    "collapsed": true
   },
   "outputs": [],
   "source": [
    "#зададим число экспериментов\n",
    "p_exp_cnt=200000\n",
    "#зададим параметры наполнения ящика\n",
    "p_params=dict({'standart':7, 'not_standart':3})\n",
    "p_result_required='not_standart'\n",
    "p_success = 2\n",
    "\n",
    "#сгенерируем содержимое ящика\n",
    "v_parts=[]\n",
    "for i in p_params:\n",
    "    v_parts.extend([i]*p_params.get(i))\n",
    "\n",
    "v_success_cnt = 0\n",
    "\n",
    "#проводим p_exp_count экспериментов, запоминаем количество положительных результатов \n",
    "for i in range(p_exp_cnt):\n",
    "    v_try_cnt = 0\n",
    "    v_parts_i=v_parts.copy()\n",
    "    while True:\n",
    "        v_try_cnt += 1\n",
    "        v_result=np.random.choice(v_parts_i)\n",
    "        if v_result == p_result_required:\n",
    "            break\n",
    "        else:\n",
    "            v_parts_i.remove(v_result) #т.к. не возвращаем деталь в ящик, перед следующим выбором ее нужно удалить из списка\n",
    "    if v_try_cnt == p_success:\n",
    "        v_success_cnt += 1\n",
    "        \n",
    "#выведем долю успешных исходов\n",
    "print ('доля успешных исходов: ', v_success_cnt/p_exp_cnt)"
   ]
  },
  {
   "cell_type": "markdown",
   "metadata": {},
   "source": [
    "Эксперементальный результат совпадает с расчетным с точностью до 2 знаков"
   ]
  },
  {
   "cell_type": "code",
   "execution_count": null,
   "metadata": {
    "collapsed": true
   },
   "outputs": [],
   "source": []
  },
  {
   "cell_type": "code",
   "execution_count": null,
   "metadata": {
    "collapsed": true
   },
   "outputs": [],
   "source": []
  },
  {
   "cell_type": "code",
   "execution_count": null,
   "metadata": {
    "collapsed": true
   },
   "outputs": [],
   "source": []
  }
 ],
 "metadata": {
  "kernelspec": {
   "display_name": "Python 3",
   "language": "python",
   "name": "python3"
  },
  "language_info": {
   "codemirror_mode": {
    "name": "ipython",
    "version": 3
   },
   "file_extension": ".py",
   "mimetype": "text/x-python",
   "name": "python",
   "nbconvert_exporter": "python",
   "pygments_lexer": "ipython3",
   "version": "3.7.4"
  },
  "toc": {
   "base_numbering": 1,
   "nav_menu": {},
   "number_sections": true,
   "sideBar": true,
   "skip_h1_title": false,
   "title_cell": "Table of Contents",
   "title_sidebar": "Contents",
   "toc_cell": true,
   "toc_position": {},
   "toc_section_display": true,
   "toc_window_display": true
  }
 },
 "nbformat": 4,
 "nbformat_minor": 2
}
