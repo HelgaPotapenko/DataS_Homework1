{
 "cells": [
  {
   "cell_type": "markdown",
   "metadata": {
    "toc": true
   },
   "source": [
    "<h1>Table of Contents<span class=\"tocSkip\"></span></h1>\n",
    "<div class=\"toc\"><ul class=\"toc-item\"><li><span><a href=\"#Задача-1\" data-toc-modified-id=\"Задача-1-1\"><span class=\"toc-item-num\">1&nbsp;&nbsp;</span>Задача 1</a></span></li><li><span><a href=\"#Задача-2\" data-toc-modified-id=\"Задача-2-2\"><span class=\"toc-item-num\">2&nbsp;&nbsp;</span>Задача 2</a></span></li><li><span><a href=\"#Задача-3\" data-toc-modified-id=\"Задача-3-3\"><span class=\"toc-item-num\">3&nbsp;&nbsp;</span>Задача 3</a></span></li></ul></div>"
   ]
  },
  {
   "cell_type": "markdown",
   "metadata": {},
   "source": [
    "Homework4\n",
    "Школа DataScientist, декабрь 2022, Андреева Ольга"
   ]
  },
  {
   "cell_type": "code",
   "execution_count": 74,
   "metadata": {},
   "outputs": [],
   "source": [
    "import pandas as pd\n",
    "import numpy as np\n",
    "import requests # for web-download\n",
    "import io # for web-download\n",
    "import re # for data processing"
   ]
  },
  {
   "cell_type": "markdown",
   "metadata": {},
   "source": [
    "# Задача 1\n",
    "На основании данных портала \"Открытые данные России\" о результатах Химического анализа родника в Нескучном саду https://data.gov.ru/opendata/7708660670-rodnik-neskuchniy-sad средствами библиотеки Pandas сформируйте поле выводов по каждому анализирумомому параметру. Например, по показателю pH получен результат 8.4 единицы pH при нормативе от 6 до 9 единиц pH. Т.о. по данному показателю результат анализа в норме. Для решения задачи необходимо программно \"прочитать и понять\" значение столбца \"Норматив\" и выделенное численное значение сравнить с нормативом согласно логике норматива. Например, 6 >= pH >= 9. В итоговом DataFrame столбец \"Показатель\" сделайте индексным.\n",
    "\n",
    "Загзрузка DataFrame выполняется непосредственно c сайта \"Открытые данные России\" https://data.gov.ru/opendata/7708660670-rodnik-neskuchniy-sad/data-20160608T1215-structure-20160608T1215.csv (см. код ниже)."
   ]
  },
  {
   "cell_type": "code",
   "execution_count": 75,
   "metadata": {},
   "outputs": [
    {
     "name": "stdout",
     "output_type": "stream",
     "text": [
      "0      в пределах 6-9\n",
      "1        не более 2-3\n",
      "2         не более 30\n",
      "3     в пределах 7-10\n",
      "4        не более 1,5\n",
      "5        не более 3,3\n",
      "6         не более 45\n",
      "7        не более 3,5\n",
      "8        не более 350\n",
      "9        не более 500\n",
      "10       не более 0,3\n",
      "11       не более 0,3\n",
      "12      не более 1000\n",
      "13       не более 0,5\n",
      "Name: Норматив, dtype: object\n"
     ]
    }
   ],
   "source": [
    "headers={\n",
    "    'User-Agent': 'Mozilla/5.0 (X11; Ubuntu; Linux x86_64; rv:52.0) Gecko/20100101 Firefox/52.0',\n",
    "}\n",
    "def get_content(url):\n",
    "    with requests.Session() as req:\n",
    "        req.headers.update(headers)\n",
    "        r = req.get(url).content\n",
    "    return r\n",
    "\n",
    "url =\"https://data.gov.ru/opendata/7708660670-rodnik-neskuchniy-sad/data-20160608T1215-structure-20160608T1215.csv\"\n",
    "s = get_content(url)\n",
    "df=pd.read_csv(io.StringIO(s.decode('UTF8')), sep=',')\n",
    "\n",
    "\n",
    "### Если не работает загрузка on-line\n",
    "#df=pd.read_csv(\"Химический анализ родника в Нескучном саду.csv\", sep=';')\n",
    "print(df['Норматив'])"
   ]
  },
  {
   "cell_type": "code",
   "execution_count": 90,
   "metadata": {},
   "outputs": [
    {
     "data": {
      "text/plain": [
       "[3.3]"
      ]
     },
     "execution_count": 90,
     "metadata": {},
     "output_type": "execute_result"
    }
   ],
   "source": [
    "def find_numbers(p_str):\n",
    "    try:\n",
    "        v_str=p_str.replace(',','.')\n",
    "        res=re.findall('\\d+(?:\\.\\d+)?', v_str)\n",
    "        res=[float(n) for n in res]\n",
    "        return res\n",
    "    except ValueError:\n",
    "        return None\n",
    "    except AttributeError:\n",
    "        return None\n",
    "CeilingHeight_to_number(None)\n",
    "\n",
    "find_numbers('не более 3,3')"
   ]
  },
  {
   "cell_type": "markdown",
   "metadata": {},
   "source": [
    "# Задача 2"
   ]
  },
  {
   "cell_type": "markdown",
   "metadata": {},
   "source": [
    "\n",
    "\n",
    "В ящике 5 апельсинов и 4 яблока. Наудачу выбираются 3 фрукта. Какова вероятность, что все три фрукта – апельсины?\n",
    "\n",
    "В интернете полученный аналитически ответ 0.119. Подтверждается ли он эксперементально?"
   ]
  },
  {
   "cell_type": "code",
   "execution_count": 76,
   "metadata": {},
   "outputs": [
    {
     "name": "stdout",
     "output_type": "stream",
     "text": [
      "доля успешных исходов:  0.11959\n"
     ]
    }
   ],
   "source": [
    "#зададим число экспериментов\n",
    "p_exp_count=200000\n",
    "#зададим параметры наполнения ящика\n",
    "p_params=dict({'apple':4, 'orange':5})\n",
    "p_result_required=np.array(['orange','orange','orange'])\n",
    "\n",
    "#сгенерируем содержимое ящика\n",
    "v_frut_box=[]\n",
    "for i in p_params:\n",
    "    v_frut_box.extend([i]*p_params.get(i))\n",
    "#print(v_frut_box)\n",
    "\n",
    "#проводим p_exp_count экспериментов, запоминаем количество положительных результатов \n",
    "v_count=0    \n",
    "for i in range(p_exp_count):\n",
    "    v_result=np.random.choice(v_frut_box, size=3, replace=False)\n",
    "    if (np.array_equal(v_result, p_result_required)):\n",
    "        v_count += 1\n",
    "        \n",
    "#выведем долю успешных исходов\n",
    "print ('доля успешных исходов: ',v_count/p_exp_count)"
   ]
  },
  {
   "cell_type": "markdown",
   "metadata": {},
   "source": [
    "Эксперементальный результат совпадает с расчетным с точностью до 2 знаков"
   ]
  },
  {
   "cell_type": "markdown",
   "metadata": {},
   "source": [
    "# Задача 3"
   ]
  },
  {
   "cell_type": "markdown",
   "metadata": {},
   "source": [
    "\n",
    "\n",
    "Мастер, имея 10 деталей, из которых 3 – нестандартных, проверяет детали одну за другой, пока ему не попадется стандартная. Какова вероятность, что он проверит ровно две детали?\n",
    "\n",
    "В интернете полученный аналитически ответ 7/30 или 0.23333. Подтверждается ли он эксперементально?"
   ]
  },
  {
   "cell_type": "code",
   "execution_count": null,
   "metadata": {},
   "outputs": [],
   "source": [
    "#зададим число экспериментов\n",
    "p_exp_cnt=200000\n",
    "#зададим параметры наполнения ящика\n",
    "p_params=dict({'standart':7, 'not_standart':3})\n",
    "p_result_required='not_standart'\n",
    "p_success = 2\n",
    "\n",
    "#сгенерируем содержимое ящика\n",
    "v_parts=[]\n",
    "for i in p_params:\n",
    "    v_parts.extend([i]*p_params.get(i))\n",
    "\n",
    "v_success_cnt = 0\n",
    "\n",
    "#проводим p_exp_count экспериментов, запоминаем количество положительных результатов \n",
    "for i in range(p_exp_cnt):\n",
    "    v_try_cnt = 0\n",
    "    v_parts_i=v_parts.copy()\n",
    "    while True:\n",
    "        v_try_cnt += 1\n",
    "        v_result=np.random.choice(v_parts_i)\n",
    "        if v_result == p_result_required:\n",
    "            break\n",
    "        else:\n",
    "            v_parts_i.remove(v_result) #т.к. не возвращаем деталь в ящик, перед следующим выбором ее нужно удалить из списка\n",
    "    if v_try_cnt == p_success:\n",
    "        v_success_cnt += 1\n",
    "        \n",
    "#выведем долю успешных исходов\n",
    "print ('доля успешных исходов: ', v_success_cnt/p_exp_cnt)"
   ]
  },
  {
   "cell_type": "markdown",
   "metadata": {},
   "source": [
    "Эксперементальный результат совпадает с расчетным с точностью до 2 знаков"
   ]
  },
  {
   "cell_type": "code",
   "execution_count": null,
   "metadata": {},
   "outputs": [],
   "source": []
  },
  {
   "cell_type": "code",
   "execution_count": null,
   "metadata": {},
   "outputs": [],
   "source": []
  },
  {
   "cell_type": "code",
   "execution_count": null,
   "metadata": {},
   "outputs": [],
   "source": []
  }
 ],
 "metadata": {
  "kernelspec": {
   "display_name": "Python 3",
   "language": "python",
   "name": "python3"
  },
  "language_info": {
   "codemirror_mode": {
    "name": "ipython",
    "version": 3
   },
   "file_extension": ".py",
   "mimetype": "text/x-python",
   "name": "python",
   "nbconvert_exporter": "python",
   "pygments_lexer": "ipython3",
   "version": "3.7.4"
  },
  "toc": {
   "base_numbering": 1,
   "nav_menu": {},
   "number_sections": true,
   "sideBar": true,
   "skip_h1_title": false,
   "title_cell": "Table of Contents",
   "title_sidebar": "Contents",
   "toc_cell": true,
   "toc_position": {},
   "toc_section_display": true,
   "toc_window_display": true
  }
 },
 "nbformat": 4,
 "nbformat_minor": 2
}
