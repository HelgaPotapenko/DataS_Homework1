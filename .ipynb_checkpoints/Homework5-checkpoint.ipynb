{
 "cells": [
  {
   "cell_type": "markdown",
   "metadata": {
    "toc": true
   },
   "source": [
    "<h1>Table of Contents<span class=\"tocSkip\"></span></h1>\n",
    "<div class=\"toc\"><ul class=\"toc-item\"><li><span><a href=\"#ЦПТ-для-различных-распределений\" data-toc-modified-id=\"ЦПТ-для-различных-распределений-1\"><span class=\"toc-item-num\">1&nbsp;&nbsp;</span>ЦПТ для различных распределений</a></span><ul class=\"toc-item\"><li><span><a href=\"#Сгенерируйте-примеры-из-распределения\" data-toc-modified-id=\"Сгенерируйте-примеры-из-распределения-1.1\"><span class=\"toc-item-num\">1.1&nbsp;&nbsp;</span>Сгенерируйте примеры из распределения</a></span></li><li><span><a href=\"#Постройте-гистограмму-выборки-и-теоретическую-плотность-распределения\" data-toc-modified-id=\"Постройте-гистограмму-выборки-и-теоретическую-плотность-распределения-1.2\"><span class=\"toc-item-num\">1.2&nbsp;&nbsp;</span>Постройте гистограмму выборки и теоретическую плотность распределения</a></span></li><li><span><a href=\"#Оценим-распределение-выборочного-среднего-для-разных-объёмов-выборок\" data-toc-modified-id=\"Оценим-распределение-выборочного-среднего-для-разных-объёмов-выборок-1.3\"><span class=\"toc-item-num\">1.3&nbsp;&nbsp;</span>Оценим распределение выборочного среднего для разных объёмов выборок</a></span></li></ul></li><li><span><a href=\"#Доверительный-интервал-на-основе-ЦПТ\" data-toc-modified-id=\"Доверительный-интервал-на-основе-ЦПТ-2\"><span class=\"toc-item-num\">2&nbsp;&nbsp;</span>Доверительный интервал на основе ЦПТ</a></span></li></ul></div>"
   ]
  },
  {
   "cell_type": "markdown",
   "metadata": {},
   "source": [
    "Homework4 Школа DataScientist, декабрь 2022, Андреева Ольга"
   ]
  },
  {
   "cell_type": "code",
   "execution_count": 486,
   "metadata": {
    "id": "a6XFMuQUG6jO"
   },
   "outputs": [],
   "source": [
    "import pandas as pd\n",
    "import numpy as np\n",
    "import matplotlib.pyplot as plt\n",
    "import scipy.stats as sts\n",
    "import math\n",
    "import statsmodels.stats.weightstats as ssw\n",
    "%matplotlib inline"
   ]
  },
  {
   "cell_type": "markdown",
   "metadata": {
    "id": "5owLnS0MHJnz"
   },
   "source": [
    "## ЦПТ для различных распределений\n",
    "Возьмите то непрерывное распределение, которое вам больше всего понравится из списка доступных в модуле [scipy.stats](https://docs.scipy.org/doc/scipy/reference/stats.html)."
   ]
  },
  {
   "cell_type": "markdown",
   "metadata": {
    "id": "v1IvIGF9IRgH"
   },
   "source": [
    "### Сгенерируйте примеры из распределения"
   ]
  },
  {
   "cell_type": "code",
   "execution_count": 487,
   "metadata": {
    "colab": {
     "base_uri": "https://localhost:8080/",
     "height": 377
    },
    "id": "l4oTC1NSHvl7",
    "outputId": "52df1553-6d91-4452-9ade-e2a62a8d7ff2"
   },
   "outputs": [
    {
     "data": {
      "text/plain": [
       "array([1.1386276 , 0.24452964, 0.39957073, ..., 0.14949266, 2.31393278,\n",
       "       0.84135582])"
      ]
     },
     "execution_count": 487,
     "metadata": {},
     "output_type": "execute_result"
    }
   ],
   "source": [
    "test_rv =  sts.expon() #sts.norm()#\n",
    "sample = test_rv.rvs(10000)\n",
    "sample"
   ]
  },
  {
   "cell_type": "code",
   "execution_count": 488,
   "metadata": {
    "colab": {
     "base_uri": "https://localhost:8080/",
     "height": 35
    },
    "id": "ScsjsI4oXgKR",
    "outputId": "86833794-f43b-436e-a0e4-c3b7483df016"
   },
   "outputs": [
    {
     "data": {
      "text/plain": [
       "dtype('float64')"
      ]
     },
     "execution_count": 488,
     "metadata": {},
     "output_type": "execute_result"
    }
   ],
   "source": [
    "sample.dtype"
   ]
  },
  {
   "cell_type": "code",
   "execution_count": 489,
   "metadata": {
    "id": "pXTNSqAOCYX4"
   },
   "outputs": [],
   "source": [
    "v_real_mean = test_rv.mean() # настоящее среднее случайной величины"
   ]
  },
  {
   "cell_type": "code",
   "execution_count": 490,
   "metadata": {
    "id": "5x4hFKaUCWSY"
   },
   "outputs": [],
   "source": [
    "v_real_var = test_rv.var() # настоящая дисперсия случайной величины"
   ]
  },
  {
   "cell_type": "code",
   "execution_count": 491,
   "metadata": {},
   "outputs": [
    {
     "name": "stdout",
     "output_type": "stream",
     "text": [
      "1.0 1.0\n"
     ]
    }
   ],
   "source": [
    "print (real_mean, real_var)"
   ]
  },
  {
   "cell_type": "markdown",
   "metadata": {
    "id": "4bNn15giIX77"
   },
   "source": [
    "### Постройте гистограмму выборки и теоретическую плотность распределения"
   ]
  },
  {
   "cell_type": "code",
   "execution_count": 492,
   "metadata": {
    "colab": {
     "base_uri": "https://localhost:8080/",
     "height": 283
    },
    "id": "CwbvqecvIcXN",
    "outputId": "ace01d5d-2552-499b-bc4f-1eb19166af83"
   },
   "outputs": [
    {
     "data": {
      "text/plain": [
       "<matplotlib.legend.Legend at 0x1c86a095308>"
      ]
     },
     "execution_count": 492,
     "metadata": {},
     "output_type": "execute_result"
    },
    {
     "data": {
      "image/png": "[encoded data removed]",
      "text/plain": [
       "<Figure size 432x288 with 1 Axes>"
      ]
     },
     "metadata": {
      "needs_background": "light"
     },
     "output_type": "display_data"
    }
   ],
   "source": [
    "# ваш код тут\n",
    "plt.hist(sample, density=True)\n",
    "x = np.linspace(-4,4,100)\n",
    "pdf = test_rv.pdf(x)\n",
    "plt.plot(x, pdf, label='теоретическая плотность', alpha=0.5)\n",
    "plt.legend()"
   ]
  },
  {
   "cell_type": "code",
   "execution_count": 493,
   "metadata": {
    "colab": {
     "base_uri": "https://localhost:8080/",
     "height": 51
    },
    "id": "rKd5XFelBqe7",
    "outputId": "32773b82-a3e9-46a2-b06d-a94d667d4f66"
   },
   "outputs": [
    {
     "name": "stdout",
     "output_type": "stream",
     "text": [
      "1.0018463900076588 1.0150543277976145\n"
     ]
    }
   ],
   "source": [
    "sample_mean = sample.mean() # выборочное среднее\n",
    "sample_var = sample.var() # выборочная дисперсия\n",
    "print(sample_mean, sample_var)"
   ]
  },
  {
   "cell_type": "markdown",
   "metadata": {
    "id": "qPuHR68NId_Z"
   },
   "source": [
    "### Оценим распределение выборочного среднего для разных объёмов выборок\n",
    "Для этого постройте на одном полотне гистограмму выборочных средних и теоретическое распределение выборочных средних по ЦПТ для разных объёмов выборок.\n",
    "\n",
    "Для теоретического распределение используйте настоящие значения мат ожидания и дисперсии (не приближенные на основе выборки)."
   ]
  },
  {
   "cell_type": "code",
   "execution_count": 494,
   "metadata": {
    "id": "_mB8upK7J58w"
   },
   "outputs": [
    {
     "data": {
      "image/png": "[encoded data removed]",
      "text/plain": [
       "<Figure size 1152x648 with 1 Axes>"
      ]
     },
     "metadata": {
      "needs_background": "light"
     },
     "output_type": "display_data"
    }
   ],
   "source": [
    "# сгенерируем выборочные средние\n",
    "с_smpl_sizes=[10, 100, 200]         #размеры выборок\n",
    "c_num_of_smpls=1000                 #Количество выборок\n",
    "\n",
    "#определяю границы, в которых будут отображаться графики\n",
    "c_num_of_sigma=2\n",
    "c_left_limit=v_real_mean-c_num_of_sigma*np.sqrt(v_real_var)\n",
    "c_right_limit=v_real_mean+c_num_of_sigma*np.sqrt(v_real_var)\n",
    "\n",
    "plt.figure(figsize=(16,9))\n",
    "\n",
    "for v_smpl_size in с_smpl_sizes:\n",
    "    v_means = []\n",
    "    for i in range(c_num_of_smpls):\n",
    "        v_smpl=test_rv.rvs(v_smpl_size)\n",
    "        v_means.append(np.mean(v_smpl))\n",
    "    plt.hist(v_means, density=True, bins='auto',  alpha=0.5 , label= 'N='+str(v_smpl_size))\n",
    "\n",
    "    norm_rv = sts.norm(loc=v_real_mean, scale=v_real_var/np.sqrt(v_smpl_size))\n",
    "    x = np.linspace(c_left_limit,c_right_limit, 100)\n",
    "    pdf = norm_rv.pdf(x)\n",
    "    plt.plot(x, pdf, label='Теоретическая плотность для N='+str(v_smpl_size), alpha=0.6)    \n",
    "\n",
    "\n",
    "plt.legend()\n",
    "plt.show()"
   ]
  },
  {
   "cell_type": "markdown",
   "metadata": {
    "id": "TF1onBy_J7sX"
   },
   "source": [
    "Вывод: для экспоненциального распределения апроксимация распределения выборочного среднего работает хорошо"
   ]
  },
  {
   "cell_type": "markdown",
   "metadata": {
    "id": "xEyWxfjSfxGp"
   },
   "source": [
    "## Доверительный интервал на основе ЦПТ\n",
    "Возьмите данные для оттока телеком компании, и постройте доверительные интервалы для среднего значения total day calls, используя центральную предельную теорему в разбиении по колонке churn (ушел/не ушел). \n",
    "\n",
    "Для оценки дисперсии используйте несмещенную оценку (параметр ddof=1).\n",
    "\n",
    "Сделайте оценку с использованием явной формулы для z интервала, а затем с помощью функций \n",
    "`from statsmodels.stats.weightstats import _zconfint_generic`. Сравните результаты.\n",
    "\n",
    "\n",
    "Ссылка на данные: https://drive.google.com/file/d/1X_drKqoarnU2Sz2har7uSCsgyhh8Xtz8/view?usp=sharing"
   ]
  },
  {
   "cell_type": "code",
   "execution_count": 495,
   "metadata": {},
   "outputs": [
    {
     "data": {
      "text/html": [
       "<div>\n",
       "<style scoped>\n",
       "    .dataframe tbody tr th:only-of-type {\n",
       "        vertical-align: middle;\n",
       "    }\n",
       "\n",
       "    .dataframe tbody tr th {\n",
       "        vertical-align: top;\n",
       "    }\n",
       "\n",
       "    .dataframe thead th {\n",
       "        text-align: right;\n",
       "    }\n",
       "</style>\n",
       "<table border=\"1\" class=\"dataframe\">\n",
       "  <thead>\n",
       "    <tr style=\"text-align: right;\">\n",
       "      <th></th>\n",
       "      <th>state</th>\n",
       "      <th>account length</th>\n",
       "      <th>area code</th>\n",
       "      <th>phone number</th>\n",
       "      <th>international plan</th>\n",
       "      <th>voice mail plan</th>\n",
       "      <th>number vmail messages</th>\n",
       "      <th>total day minutes</th>\n",
       "      <th>total day calls</th>\n",
       "      <th>total day charge</th>\n",
       "      <th>...</th>\n",
       "      <th>total eve calls</th>\n",
       "      <th>total eve charge</th>\n",
       "      <th>total night minutes</th>\n",
       "      <th>total night calls</th>\n",
       "      <th>total night charge</th>\n",
       "      <th>total intl minutes</th>\n",
       "      <th>total intl calls</th>\n",
       "      <th>total intl charge</th>\n",
       "      <th>customer service calls</th>\n",
       "      <th>churn</th>\n",
       "    </tr>\n",
       "  </thead>\n",
       "  <tbody>\n",
       "    <tr>\n",
       "      <td>0</td>\n",
       "      <td>KS</td>\n",
       "      <td>128</td>\n",
       "      <td>415</td>\n",
       "      <td>382-4657</td>\n",
       "      <td>no</td>\n",
       "      <td>yes</td>\n",
       "      <td>25</td>\n",
       "      <td>265.1</td>\n",
       "      <td>110</td>\n",
       "      <td>45.07</td>\n",
       "      <td>...</td>\n",
       "      <td>99</td>\n",
       "      <td>16.78</td>\n",
       "      <td>244.7</td>\n",
       "      <td>91</td>\n",
       "      <td>11.01</td>\n",
       "      <td>10.0</td>\n",
       "      <td>3</td>\n",
       "      <td>2.70</td>\n",
       "      <td>1</td>\n",
       "      <td>False</td>\n",
       "    </tr>\n",
       "    <tr>\n",
       "      <td>1</td>\n",
       "      <td>OH</td>\n",
       "      <td>107</td>\n",
       "      <td>415</td>\n",
       "      <td>371-7191</td>\n",
       "      <td>no</td>\n",
       "      <td>yes</td>\n",
       "      <td>26</td>\n",
       "      <td>161.6</td>\n",
       "      <td>123</td>\n",
       "      <td>27.47</td>\n",
       "      <td>...</td>\n",
       "      <td>103</td>\n",
       "      <td>16.62</td>\n",
       "      <td>254.4</td>\n",
       "      <td>103</td>\n",
       "      <td>11.45</td>\n",
       "      <td>13.7</td>\n",
       "      <td>3</td>\n",
       "      <td>3.70</td>\n",
       "      <td>1</td>\n",
       "      <td>False</td>\n",
       "    </tr>\n",
       "    <tr>\n",
       "      <td>2</td>\n",
       "      <td>NJ</td>\n",
       "      <td>137</td>\n",
       "      <td>415</td>\n",
       "      <td>358-1921</td>\n",
       "      <td>no</td>\n",
       "      <td>no</td>\n",
       "      <td>0</td>\n",
       "      <td>243.4</td>\n",
       "      <td>114</td>\n",
       "      <td>41.38</td>\n",
       "      <td>...</td>\n",
       "      <td>110</td>\n",
       "      <td>10.30</td>\n",
       "      <td>162.6</td>\n",
       "      <td>104</td>\n",
       "      <td>7.32</td>\n",
       "      <td>12.2</td>\n",
       "      <td>5</td>\n",
       "      <td>3.29</td>\n",
       "      <td>0</td>\n",
       "      <td>False</td>\n",
       "    </tr>\n",
       "    <tr>\n",
       "      <td>3</td>\n",
       "      <td>OH</td>\n",
       "      <td>84</td>\n",
       "      <td>408</td>\n",
       "      <td>375-9999</td>\n",
       "      <td>yes</td>\n",
       "      <td>no</td>\n",
       "      <td>0</td>\n",
       "      <td>299.4</td>\n",
       "      <td>71</td>\n",
       "      <td>50.90</td>\n",
       "      <td>...</td>\n",
       "      <td>88</td>\n",
       "      <td>5.26</td>\n",
       "      <td>196.9</td>\n",
       "      <td>89</td>\n",
       "      <td>8.86</td>\n",
       "      <td>6.6</td>\n",
       "      <td>7</td>\n",
       "      <td>1.78</td>\n",
       "      <td>2</td>\n",
       "      <td>False</td>\n",
       "    </tr>\n",
       "    <tr>\n",
       "      <td>4</td>\n",
       "      <td>OK</td>\n",
       "      <td>75</td>\n",
       "      <td>415</td>\n",
       "      <td>330-6626</td>\n",
       "      <td>yes</td>\n",
       "      <td>no</td>\n",
       "      <td>0</td>\n",
       "      <td>166.7</td>\n",
       "      <td>113</td>\n",
       "      <td>28.34</td>\n",
       "      <td>...</td>\n",
       "      <td>122</td>\n",
       "      <td>12.61</td>\n",
       "      <td>186.9</td>\n",
       "      <td>121</td>\n",
       "      <td>8.41</td>\n",
       "      <td>10.1</td>\n",
       "      <td>3</td>\n",
       "      <td>2.73</td>\n",
       "      <td>3</td>\n",
       "      <td>False</td>\n",
       "    </tr>\n",
       "  </tbody>\n",
       "</table>\n",
       "<p>5 rows × 21 columns</p>\n",
       "</div>"
      ],
      "text/plain": [
       "  state  account length  area code phone number international plan  \\\n",
       "0    KS             128        415     382-4657                 no   \n",
       "1    OH             107        415     371-7191                 no   \n",
       "2    NJ             137        415     358-1921                 no   \n",
       "3    OH              84        408     375-9999                yes   \n",
       "4    OK              75        415     330-6626                yes   \n",
       "\n",
       "  voice mail plan  number vmail messages  total day minutes  total day calls  \\\n",
       "0             yes                     25              265.1              110   \n",
       "1             yes                     26              161.6              123   \n",
       "2              no                      0              243.4              114   \n",
       "3              no                      0              299.4               71   \n",
       "4              no                      0              166.7              113   \n",
       "\n",
       "   total day charge  ...  total eve calls  total eve charge  \\\n",
       "0             45.07  ...               99             16.78   \n",
       "1             27.47  ...              103             16.62   \n",
       "2             41.38  ...              110             10.30   \n",
       "3             50.90  ...               88              5.26   \n",
       "4             28.34  ...              122             12.61   \n",
       "\n",
       "   total night minutes  total night calls  total night charge  \\\n",
       "0                244.7                 91               11.01   \n",
       "1                254.4                103               11.45   \n",
       "2                162.6                104                7.32   \n",
       "3                196.9                 89                8.86   \n",
       "4                186.9                121                8.41   \n",
       "\n",
       "   total intl minutes  total intl calls  total intl charge  \\\n",
       "0                10.0                 3               2.70   \n",
       "1                13.7                 3               3.70   \n",
       "2                12.2                 5               3.29   \n",
       "3                 6.6                 7               1.78   \n",
       "4                10.1                 3               2.73   \n",
       "\n",
       "   customer service calls  churn  \n",
       "0                       1  False  \n",
       "1                       1  False  \n",
       "2                       0  False  \n",
       "3                       2  False  \n",
       "4                       3  False  \n",
       "\n",
       "[5 rows x 21 columns]"
      ]
     },
     "metadata": {},
     "output_type": "display_data"
    }
   ],
   "source": [
    "# либо загружаем из альтернативного хранилища\n",
    "url =\"./telecom_churn.csv\"\n",
    "df=pd.read_csv(url)\n",
    "display(df.head(5))"
   ]
  },
  {
   "cell_type": "code",
   "execution_count": 496,
   "metadata": {},
   "outputs": [
    {
     "data": {
      "text/html": [
       "<div>\n",
       "<style scoped>\n",
       "    .dataframe tbody tr th:only-of-type {\n",
       "        vertical-align: middle;\n",
       "    }\n",
       "\n",
       "    .dataframe tbody tr th {\n",
       "        vertical-align: top;\n",
       "    }\n",
       "\n",
       "    .dataframe thead th {\n",
       "        text-align: right;\n",
       "    }\n",
       "</style>\n",
       "<table border=\"1\" class=\"dataframe\">\n",
       "  <thead>\n",
       "    <tr style=\"text-align: right;\">\n",
       "      <th></th>\n",
       "      <th>total day calls</th>\n",
       "    </tr>\n",
       "    <tr>\n",
       "      <th>churn</th>\n",
       "      <th></th>\n",
       "    </tr>\n",
       "  </thead>\n",
       "  <tbody>\n",
       "    <tr>\n",
       "      <td>False</td>\n",
       "      <td>100.283158</td>\n",
       "    </tr>\n",
       "    <tr>\n",
       "      <td>True</td>\n",
       "      <td>101.335404</td>\n",
       "    </tr>\n",
       "  </tbody>\n",
       "</table>\n",
       "</div>"
      ],
      "text/plain": [
       "       total day calls\n",
       "churn                 \n",
       "False       100.283158\n",
       "True        101.335404"
      ]
     },
     "execution_count": 496,
     "metadata": {},
     "output_type": "execute_result"
    }
   ],
   "source": [
    "#средние значения total day calls в разбиении по колонке churn (ушел/не ушел).\n",
    "df.groupby(by='churn').agg({'total day calls':'mean'})"
   ]
  },
  {
   "cell_type": "code",
   "execution_count": 497,
   "metadata": {},
   "outputs": [
    {
     "name": "stdout",
     "output_type": "stream",
     "text": [
      "Для churn = True:\n",
      "Доверительный интервал для среднего по цпт, по прямой формуле: (99.04849406532381, 103.62231338809235) \n",
      "Доверительный интервал для среднего по цпт интервальная оценка: (99.04849406532381, 103.62231338809235) \n",
      "Доверительный интервал для среднего по цпт методом _zconfint_generic: (99.04849406532381, 103.62231338809235) \n",
      "Для churn = False:\n",
      "Доверительный интервал для среднего по цпт, по прямой формуле: (99.4201415921822, 101.14617419729149) \n",
      "Доверительный интервал для среднего по цпт интервальная оценка: (99.4201415921822, 101.14617419729149) \n",
      "Доверительный интервал для среднего по цпт методом _zconfint_generic: (99.4201415921822, 101.14617419729149) \n"
     ]
    }
   ],
   "source": [
    "#построение доверительных интервалов\n",
    "\n",
    "v_trust_level=0.98 #уровень доверия\n",
    "#вычислим квантиль нормального распределения для дальнейших рассчетов с использованием явной формулы для z интервала\n",
    "v_quantilе=sts.norm.ppf(1-(1-v_trust_level)/2)\n",
    "\n",
    "for v_churn in [True, False]:\n",
    "    print('Для churn = '+ str(v_churn)+ ':')\n",
    "    v_data = df[df.churn==v_churn]['total day calls']\n",
    "    v_size=len(v_data)\n",
    "    v_std=np.std(v_data, ddof=1)\n",
    "    v_mean=np.mean(v_data)\n",
    "    \n",
    "    print(\"Доверительный интервал для среднего по цпт, по прямой формуле: ({}, {}) \".format(\n",
    "            v_mean - v_quantilе * v_std / np.sqrt(v_size-1), v_mean + v_quantilе * v_std / np.sqrt(v_size-1)))\n",
    "    \n",
    "    print(\"Доверительный интервал для среднего по цпт интервальная оценка: {} \".format(\n",
    "            sts.norm.interval(alpha=v_trust_level, loc=v_mean, scale=v_std/np.sqrt(v_size-1))))\n",
    "    \n",
    "    #https://www.statsmodels.org/dev/generated/statsmodels.stats.weightstats._zconfint_generic.html\n",
    "    #alpha:Significance level for the confidence interval, coverage is 1-alpha\n",
    "    # поэтому alpha=1-v_trust_level\n",
    "    print(\"Доверительный интервал для среднего по цпт методом _zconfint_generic: {} \".format(\n",
    "        ssw._zconfint_generic(v_mean, v_std/np.sqrt(v_size-1), alpha=1-v_trust_level, alternative='two-sided')))\n"
   ]
  },
  {
   "cell_type": "markdown",
   "metadata": {},
   "source": [
    "Вывод: для одинакового уровня доверия результаты, полученные с помощью прямой формулы и методов scipy.stats.norm.interval, _zconfint_generic совпадают."
   ]
  },
  {
   "cell_type": "code",
   "execution_count": 601,
   "metadata": {},
   "outputs": [
    {
     "data": {
      "text/html": [
       "<div>\n",
       "<style scoped>\n",
       "    .dataframe tbody tr th:only-of-type {\n",
       "        vertical-align: middle;\n",
       "    }\n",
       "\n",
       "    .dataframe tbody tr th {\n",
       "        vertical-align: top;\n",
       "    }\n",
       "\n",
       "    .dataframe thead tr th {\n",
       "        text-align: left;\n",
       "    }\n",
       "\n",
       "    .dataframe thead tr:last-of-type th {\n",
       "        text-align: right;\n",
       "    }\n",
       "</style>\n",
       "<table border=\"1\" class=\"dataframe\">\n",
       "  <thead>\n",
       "    <tr>\n",
       "      <th></th>\n",
       "      <th colspan=\"2\" halign=\"left\">intrvl</th>\n",
       "      <th colspan=\"2\" halign=\"left\">intrvl_size</th>\n",
       "    </tr>\n",
       "    <tr>\n",
       "      <th>churn</th>\n",
       "      <th>False</th>\n",
       "      <th>True</th>\n",
       "      <th>False</th>\n",
       "      <th>True</th>\n",
       "    </tr>\n",
       "    <tr>\n",
       "      <th>trust_level</th>\n",
       "      <th></th>\n",
       "      <th></th>\n",
       "      <th></th>\n",
       "      <th></th>\n",
       "    </tr>\n",
       "  </thead>\n",
       "  <tbody>\n",
       "    <tr>\n",
       "      <td>0.80</td>\n",
       "      <td>[99.80773, 100.75858]</td>\n",
       "      <td>[100.07558, 102.59523]</td>\n",
       "      <td>0.95085</td>\n",
       "      <td>2.51965</td>\n",
       "    </tr>\n",
       "    <tr>\n",
       "      <td>0.82</td>\n",
       "      <td>[99.78577, 100.78054]</td>\n",
       "      <td>[100.01738, 102.65343]</td>\n",
       "      <td>0.99477</td>\n",
       "      <td>2.63605</td>\n",
       "    </tr>\n",
       "    <tr>\n",
       "      <td>0.84</td>\n",
       "      <td>[99.76191, 100.8044]</td>\n",
       "      <td>[99.95415, 102.71666]</td>\n",
       "      <td>1.04249</td>\n",
       "      <td>2.76251</td>\n",
       "    </tr>\n",
       "    <tr>\n",
       "      <td>0.86</td>\n",
       "      <td>[99.73568, 100.83064]</td>\n",
       "      <td>[99.88463, 102.78618]</td>\n",
       "      <td>1.09496</td>\n",
       "      <td>2.90155</td>\n",
       "    </tr>\n",
       "    <tr>\n",
       "      <td>0.88</td>\n",
       "      <td>[99.70638, 100.85994]</td>\n",
       "      <td>[99.80699, 102.86382]</td>\n",
       "      <td>1.15356</td>\n",
       "      <td>3.05683</td>\n",
       "    </tr>\n",
       "    <tr>\n",
       "      <td>0.90</td>\n",
       "      <td>[99.67296, 100.89336]</td>\n",
       "      <td>[99.71844, 102.95237]</td>\n",
       "      <td>1.22040</td>\n",
       "      <td>3.23393</td>\n",
       "    </tr>\n",
       "    <tr>\n",
       "      <td>0.92</td>\n",
       "      <td>[99.6337, 100.93262]</td>\n",
       "      <td>[99.6144, 103.05641]</td>\n",
       "      <td>1.29892</td>\n",
       "      <td>3.44201</td>\n",
       "    </tr>\n",
       "    <tr>\n",
       "      <td>0.94</td>\n",
       "      <td>[99.58543, 100.98088]</td>\n",
       "      <td>[99.48649, 103.18431]</td>\n",
       "      <td>1.39545</td>\n",
       "      <td>3.69782</td>\n",
       "    </tr>\n",
       "    <tr>\n",
       "      <td>0.96</td>\n",
       "      <td>[99.52127, 101.04505]</td>\n",
       "      <td>[99.31647, 103.35434]</td>\n",
       "      <td>1.52378</td>\n",
       "      <td>4.03787</td>\n",
       "    </tr>\n",
       "    <tr>\n",
       "      <td>0.98</td>\n",
       "      <td>[99.42014, 101.14617]</td>\n",
       "      <td>[99.04849, 103.62231]</td>\n",
       "      <td>1.72603</td>\n",
       "      <td>4.57382</td>\n",
       "    </tr>\n",
       "  </tbody>\n",
       "</table>\n",
       "</div>"
      ],
      "text/plain": [
       "                            intrvl                         intrvl_size  \\\n",
       "churn                        False                   True        False   \n",
       "trust_level                                                              \n",
       "0.80         [99.80773, 100.75858]  [100.07558, 102.59523]     0.95085   \n",
       "0.82         [99.78577, 100.78054]  [100.01738, 102.65343]     0.99477   \n",
       "0.84          [99.76191, 100.8044]   [99.95415, 102.71666]     1.04249   \n",
       "0.86         [99.73568, 100.83064]   [99.88463, 102.78618]     1.09496   \n",
       "0.88         [99.70638, 100.85994]   [99.80699, 102.86382]     1.15356   \n",
       "0.90         [99.67296, 100.89336]   [99.71844, 102.95237]     1.22040   \n",
       "0.92          [99.6337, 100.93262]    [99.6144, 103.05641]     1.29892   \n",
       "0.94         [99.58543, 100.98088]   [99.48649, 103.18431]     1.39545   \n",
       "0.96         [99.52127, 101.04505]   [99.31647, 103.35434]     1.52378   \n",
       "0.98         [99.42014, 101.14617]   [99.04849, 103.62231]     1.72603   \n",
       "\n",
       "                      \n",
       "churn          True   \n",
       "trust_level           \n",
       "0.80         2.51965  \n",
       "0.82         2.63605  \n",
       "0.84         2.76251  \n",
       "0.86         2.90155  \n",
       "0.88         3.05683  \n",
       "0.90         3.23393  \n",
       "0.92         3.44201  \n",
       "0.94         3.69782  \n",
       "0.96         4.03787  \n",
       "0.98         4.57382  "
      ]
     },
     "execution_count": 601,
     "metadata": {},
     "output_type": "execute_result"
    }
   ],
   "source": [
    "# то же самое для разных доверительных интервалов\n",
    "#вычислим квантиль нормального распределения для дальнейших рассчетов с использованием явной формулы для z интервала\n",
    "v_quantilе=sts.norm.ppf(1-(1-v_trust_level)/2)\n",
    "\n",
    "df_intrvls= pd.DataFrame()\n",
    "\n",
    "for v_churn in [True, False]:\n",
    "    v_data = df[df.churn==v_churn]['total day calls']\n",
    "    v_size=len(v_data)\n",
    "    v_std=np.std(v_data, ddof=1)\n",
    "    v_mean=np.mean(v_data)\n",
    "    for v_trust_level in np.arange(0.8, 1, 0.02):\n",
    "        v_trust_level=np.around(v_trust_level, decimals=2, out=None)\n",
    "        v_quantilе=sts.norm.ppf(1-(1-v_trust_level)/2)\n",
    "        v_formula = v_mean - v_quantilе * v_std / np.sqrt(v_size-1), v_mean + v_quantilе * v_std / np.sqrt(v_size-1)\n",
    "        \n",
    "        #интервальная оценка\n",
    "        v_intrvl = sts.norm.interval(alpha=v_trust_level, loc=v_mean, scale=v_std/np.sqrt(v_size-1))\n",
    "        \n",
    "        #методом _zconfint_generic\n",
    "        v_zconfint = ssw._zconfint_generic(v_mean,  v_std/np.sqrt(v_size-1), alpha=1-v_trust_level, alternative='two-sided')\n",
    "        \n",
    "        df_intrvls=df_intrvls.append({'churn':v_churn\n",
    "                                      , 'trust_level':v_trust_level\n",
    "                                      , 'by_formula':np.around(v_formula, decimals=5, out=None)\n",
    "                                      , 'by_intrvl':np.around(v_intrvl, decimals=5, out=None)\n",
    "                                      , 'by_zconfint':np.around(v_zconfint, decimals=5, out=None)\n",
    "                                     }\n",
    "                                     , ignore_index=True)\n",
    "df_intrvls['churn']=df_intrvls['churn'].astype('bool')\n",
    "df_intrvls.set_index(['churn','trust_level'], inplace=True)\n",
    "\n",
    "df_intrvls['intrvl'] = df_intrvls.apply(\n",
    "                            lambda x: x['by_formula'] if np.array_equal(x['by_formula'], x['by_intrvl']) and np.array_equal(x['by_formula'], x['by_zconfint']) else None\n",
    "                            , axis=1)\n",
    "df_intrvls['intrvl_size']=df_intrvls.apply(\n",
    "                            lambda x: x['intrvl'][1]-x['intrvl'][0]\n",
    "                            , axis=1)\n",
    "df_intrvls[['intrvl','intrvl_size']].unstack('churn')"
   ]
  },
  {
   "cell_type": "code",
   "execution_count": 659,
   "metadata": {},
   "outputs": [
    {
     "data": {
      "image/png": "[encoded data removed]",
      "text/plain": [
       "<Figure size 720x720 with 1 Axes>"
      ]
     },
     "metadata": {
      "needs_background": "light"
     },
     "output_type": "display_data"
    }
   ],
   "source": [
    "#визуализируем полученные интервалы\n",
    "import matplotlib.ticker as ticker\n",
    "\n",
    "v_true_color='green'\n",
    "v_false_color='orange'\n",
    "\n",
    "fig, ax = plt.subplots(1, 1)\n",
    "fig.set_size_inches(10,10)\n",
    "\n",
    "v1=df_intrvls.loc[True]['intrvl']\n",
    "v2=df_intrvls.loc[False]['intrvl']\n",
    "\n",
    "\n",
    "box1=ax.boxplot(v1\n",
    "           , boxprops=dict(linewidth=3, color=v_true_color, alpha=0.5)\n",
    "           , whiskerprops=dict(linewidth=2, color=v_true_color, alpha=0.5)\n",
    "           , capprops=dict(linewidth=3, color=v_true_color)\n",
    "           , medianprops = dict(linewidth=1, color=v_true_color)\n",
    "           )\n",
    "box2=ax.boxplot(v2\n",
    "           , boxprops=dict(linewidth=3, color=v_false_color, alpha=0.5)\n",
    "           , whiskerprops=dict(linewidth=2, color=v_false_color, alpha=0.5)\n",
    "           , capprops=dict(linewidth=3, color=v_false_color)\n",
    "           , medianprops = dict(linewidth=1, color=v_false_color)\n",
    "           )\n",
    "\n",
    "ax.set_xticklabels(v1.index)\n",
    "\n",
    "ax.yaxis.set_major_locator(ticker.MultipleLocator(0.2))\n",
    "ax.grid(axis = 'y')\n",
    "ax.legend([box1[\"boxes\"][0], box2[\"boxes\"][0]], ['True', 'False'])\n",
    "plt.show()"
   ]
  },
  {
   "cell_type": "code",
   "execution_count": null,
   "metadata": {},
   "outputs": [],
   "source": []
  }
 ],
 "metadata": {
  "colab": {
   "collapsed_sections": [],
   "name": "Практика к занятию 12.ipynb",
   "provenance": []
  },
  "kernelspec": {
   "display_name": "Python 3",
   "language": "python",
   "name": "python3"
  },
  "language_info": {
   "codemirror_mode": {
    "name": "ipython",
    "version": 3
   },
   "file_extension": ".py",
   "mimetype": "text/x-python",
   "name": "python",
   "nbconvert_exporter": "python",
   "pygments_lexer": "ipython3",
   "version": "3.7.4"
  },
  "toc": {
   "base_numbering": 1,
   "nav_menu": {},
   "number_sections": true,
   "sideBar": true,
   "skip_h1_title": false,
   "title_cell": "Table of Contents",
   "title_sidebar": "Contents",
   "toc_cell": true,
   "toc_position": {
    "height": "calc(100% - 180px)",
    "left": "10px",
    "top": "150px",
    "width": "165px"
   },
   "toc_section_display": true,
   "toc_window_display": true
  }
 },
 "nbformat": 4,
 "nbformat_minor": 1
}
